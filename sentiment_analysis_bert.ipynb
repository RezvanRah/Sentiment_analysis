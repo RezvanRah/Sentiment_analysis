{
 "cells": [
  {
   "cell_type": "markdown",
   "id": "2b8b32cd-fbe9-4591-871f-ad8c8c03d33c",
   "metadata": {},
   "source": [
    "<h1>Using the pre-trained BERT model from Hugging Face for sentiment analysis on some data and reviews that I scraped from Yelp.com</h1>\n",
    "<h1>The pre-trained model is bert-base-multilingual-uncased model finetuned for sentiment analysis on product reviews in six languages: English, Dutch, German, French, Spanish, and Italian. It predicts the sentiment of the review as a number of stars (between 1 and 5).</h1>\n",
    "<h1>From Yelp.com, I chose 'Shiraz Kitchen & Wine Bar' to scrape its reviews. It's a Persian restaurant in New York. Unfortunately, I've never been to NY, but I added this restaurant to my bucket list for when I'll be visiting NY. So, fingers are crossed :))) </h1>"
   ]
  },
  {
   "cell_type": "markdown",
   "id": "cd4e73e3-f738-4ad5-95a2-8babda23c2b9",
   "metadata": {},
   "source": [
    "<div align=center> <img src=\"s.jpg\" width=\"300\"  /> </div>"
   ]
  },
  {
   "cell_type": "markdown",
   "id": "762213a9-c5c6-4729-b1a5-8c654d3e557c",
   "metadata": {},
   "source": [
    "-----------------------------------------------------------------------------------------------\n",
    "-----------------------------------------------------------------------------------------------"
   ]
  },
  {
   "cell_type": "markdown",
   "id": "46117032-929c-4606-a005-5039547576f8",
   "metadata": {},
   "source": [
    "<h2> Importing Necessary Libraries:\n",
    " </h2>"
   ]
  },
  {
   "cell_type": "code",
   "execution_count": 1,
   "id": "c0ce2e91-ae94-46ca-ae7e-ee4572f7546d",
   "metadata": {},
   "outputs": [],
   "source": [
    "#tokenizer allow us to pass through a string and convert that into a sequence of numbers so we can pass to our NLP model\n",
    "#auto model is going to give us the architecture from transformers to be able to load in the NLP model\n",
    "#use argmax from torch to be able to extract the highest sequence result\n",
    "#use requests to extract data from webpage\n",
    "#use BeautifulSoup to traverse the dom result from Yelp.com\n",
    "#use re to create a regex function to be able to extract the specific comment\n",
    "from transformers import AutoTokenizer, AutoModelForSequenceClassification\n",
    "import torch\n",
    "import requests\n",
    "from bs4 import BeautifulSoup\n",
    "import re\n",
    "import pandas as pd\n",
    "import numpy as np\n",
    "import matplotlib.pyplot as plt\n",
    "\n",
    "%matplotlib inline"
   ]
  },
  {
   "cell_type": "markdown",
   "id": "7d1d586e-eb52-440e-ac52-e25a28eaafdd",
   "metadata": {},
   "source": [
    "<h2> Instantiate Model</h2>"
   ]
  },
  {
   "cell_type": "code",
   "execution_count": 2,
   "id": "8d5497bc-c7c4-4e2f-bba6-4d7c65b638f6",
   "metadata": {},
   "outputs": [],
   "source": [
    "#instantiate pre-trained BERT model\n",
    "tokenizer = AutoTokenizer.from_pretrained('nlptown/bert-base-multilingual-uncased-sentiment')\n",
    "model = AutoModelForSequenceClassification.from_pretrained('nlptown/bert-base-multilingual-uncased-sentiment')"
   ]
  },
  {
   "cell_type": "markdown",
   "id": "c01ab5b5-dcf3-43e9-9a6b-ff24462da258",
   "metadata": {},
   "source": [
    "<h2> Web Scraping Yelp.com and Collecting Reviews: </h2>"
   ]
  },
  {
   "cell_type": "code",
   "execution_count": 3,
   "id": "bd2c5755-049c-471f-af44-fa046d3824a1",
   "metadata": {},
   "outputs": [],
   "source": [
    "#sending request to the Yelp website to scrape the data with BeautifulSoup\n",
    "reviews = []  # Create an empty list to store the reviews\n",
    "for i in range(0, 100, 10):  # Loop through a range of numbers from 0 to 100 with a step of 10\n",
    "    url = f'https://www.yelp.com/biz/shiraz-kitchen-and-wine-bar-new-york?start={i}'  # Construct the URL with the current value of i\n",
    "    r = requests.get(url)  # Send a GET request to the URL and store the response\n",
    "    soup = BeautifulSoup(r.text, 'html.parser')  # Create a BeautifulSoup object to parse the HTML content\n",
    "    regex = re.compile('.*comment.*')  # Create a regular expression pattern to match the class attribute of the <p> tags\n",
    "    results = soup.find_all('p', {'class': regex})  # Find all <p> tags with the specified class attribute\n",
    "    reviews += [result.text for result in results]  # Extract the text from each <p> tag and add it to the reviews list"
   ]
  },
  {
   "cell_type": "markdown",
   "id": "63e1f1a5-3081-42c9-8335-07b919953236",
   "metadata": {},
   "source": [
    "<h2> Calculating Sentiment: </h2>"
   ]
  },
  {
   "cell_type": "code",
   "execution_count": 4,
   "id": "d265f65e-5630-4491-8569-19e0f883d5ac",
   "metadata": {},
   "outputs": [],
   "source": [
    "sentiments = []  # Create an empty list to store the sentiment scores\n",
    "for review in reviews:  # Iterate over each review in the list of reviews\n",
    "    tokens = tokenizer.encode(review, return_tensors='pt')  # Tokenize the review using the BERT tokenizer\n",
    "    result = model(tokens)  # Pass the tokens through the BERT model to get the sentiment score\n",
    "    # We want to score from 1 to 5 (default starts with 0)\n",
    "    sentiment = int(torch.argmax(result.logits)) + 1  # Get the sentiment score by finding the index of the maximum value and adding 1\n",
    "    sentiments.append(sentiment)  # Add the sentiment score to the list of sentiments"
   ]
  },
  {
   "cell_type": "markdown",
   "id": "d895f69c-3166-464b-9f8f-799060ef99e2",
   "metadata": {},
   "source": [
    "<h2>The DataFrame:</h2>"
   ]
  },
  {
   "cell_type": "markdown",
   "id": "1a8db531-ae48-4beb-a5c7-b0f66803d273",
   "metadata": {},
   "source": [
    "<h3> Here, we can see all 106 review comments along with their sentiment scores, which range from 1 to 5. </h3>"
   ]
  },
  {
   "cell_type": "code",
   "execution_count": 5,
   "id": "3534a780-7224-41fb-8690-e555c9e492ef",
   "metadata": {},
   "outputs": [
    {
     "data": {
      "text/html": [
       "<div>\n",
       "<style scoped>\n",
       "    .dataframe tbody tr th:only-of-type {\n",
       "        vertical-align: middle;\n",
       "    }\n",
       "\n",
       "    .dataframe tbody tr th {\n",
       "        vertical-align: top;\n",
       "    }\n",
       "\n",
       "    .dataframe thead th {\n",
       "        text-align: right;\n",
       "    }\n",
       "</style>\n",
       "<table border=\"1\" class=\"dataframe\">\n",
       "  <thead>\n",
       "    <tr style=\"text-align: right;\">\n",
       "      <th></th>\n",
       "      <th>review</th>\n",
       "      <th>sentiment</th>\n",
       "    </tr>\n",
       "  </thead>\n",
       "  <tbody>\n",
       "    <tr>\n",
       "      <th>0</th>\n",
       "      <td>The food was full of flavor and unique! Lots o...</td>\n",
       "      <td>4</td>\n",
       "    </tr>\n",
       "    <tr>\n",
       "      <th>1</th>\n",
       "      <td>One of the best kosher Persian restaurants!Bee...</td>\n",
       "      <td>5</td>\n",
       "    </tr>\n",
       "    <tr>\n",
       "      <th>2</th>\n",
       "      <td>Came here on a weekday night and the ambiance ...</td>\n",
       "      <td>4</td>\n",
       "    </tr>\n",
       "    <tr>\n",
       "      <th>3</th>\n",
       "      <td>First night in NYC and we decided on Persian s...</td>\n",
       "      <td>5</td>\n",
       "    </tr>\n",
       "    <tr>\n",
       "      <th>4</th>\n",
       "      <td>Best Persian food experienced outside of a rel...</td>\n",
       "      <td>5</td>\n",
       "    </tr>\n",
       "    <tr>\n",
       "      <th>...</th>\n",
       "      <td>...</td>\n",
       "      <td>...</td>\n",
       "    </tr>\n",
       "    <tr>\n",
       "      <th>101</th>\n",
       "      <td>Had a great lunch with my friends at this rest...</td>\n",
       "      <td>5</td>\n",
       "    </tr>\n",
       "    <tr>\n",
       "      <th>102</th>\n",
       "      <td>My DIL is Iranian and this is her favorite pla...</td>\n",
       "      <td>5</td>\n",
       "    </tr>\n",
       "    <tr>\n",
       "      <th>103</th>\n",
       "      <td>I was right next door at West Elm looking at c...</td>\n",
       "      <td>5</td>\n",
       "    </tr>\n",
       "    <tr>\n",
       "      <th>104</th>\n",
       "      <td>Unfortunately not a great experience. The food...</td>\n",
       "      <td>2</td>\n",
       "    </tr>\n",
       "    <tr>\n",
       "      <th>105</th>\n",
       "      <td>Best Persian restaurant. It's like having home...</td>\n",
       "      <td>5</td>\n",
       "    </tr>\n",
       "  </tbody>\n",
       "</table>\n",
       "<p>106 rows × 2 columns</p>\n",
       "</div>"
      ],
      "text/plain": [
       "                                                review  sentiment\n",
       "0    The food was full of flavor and unique! Lots o...          4\n",
       "1    One of the best kosher Persian restaurants!Bee...          5\n",
       "2    Came here on a weekday night and the ambiance ...          4\n",
       "3    First night in NYC and we decided on Persian s...          5\n",
       "4    Best Persian food experienced outside of a rel...          5\n",
       "..                                                 ...        ...\n",
       "101  Had a great lunch with my friends at this rest...          5\n",
       "102  My DIL is Iranian and this is her favorite pla...          5\n",
       "103  I was right next door at West Elm looking at c...          5\n",
       "104  Unfortunately not a great experience. The food...          2\n",
       "105  Best Persian restaurant. It's like having home...          5\n",
       "\n",
       "[106 rows x 2 columns]"
      ]
     },
     "execution_count": 5,
     "metadata": {},
     "output_type": "execute_result"
    }
   ],
   "source": [
    "#creating the data frame\n",
    "df = pd.DataFrame({'review': reviews, 'sentiment': sentiments})\n",
    "df"
   ]
  },
  {
   "cell_type": "markdown",
   "id": "650b445f-2332-4d8b-ac59-d6358336d117",
   "metadata": {},
   "source": [
    "<h2>Calculating the overall sentiment score of the reviews by taking the average of the sentiment scores:</h2>"
   ]
  },
  {
   "cell_type": "markdown",
   "id": "9a8e4b5b-462f-4bb6-91da-4f1621277bd2",
   "metadata": {},
   "source": [
    "<h3> The average sentiment score is 4.5, which suggests that the restaurant is of high quality and has received positive reviews.</h3>"
   ]
  },
  {
   "cell_type": "code",
   "execution_count": 6,
   "id": "5b30483f-d368-4990-8a59-ac715079f29a",
   "metadata": {},
   "outputs": [
    {
     "name": "stdout",
     "output_type": "stream",
     "text": [
      "Overall sentiment score: 4.566037735849057\n"
     ]
    }
   ],
   "source": [
    "overall_sentiment = df['sentiment'].mean()\n",
    "print(f'Overall sentiment score: {overall_sentiment}')"
   ]
  },
  {
   "cell_type": "markdown",
   "id": "e4d5e09e-cf1b-47a7-8dac-51f882514d54",
   "metadata": {},
   "source": [
    "<h2>Visualizing the distribution of the sentiment scores using a histogram:</h2>"
   ]
  },
  {
   "cell_type": "code",
   "execution_count": 7,
   "id": "fdbf31fe-2c63-48d0-a847-58c49e72fbea",
   "metadata": {},
   "outputs": [
    {
     "data": {
      "image/png": "[encoded data removed]",
      "text/plain": [
       "<Figure size 500x300 with 1 Axes>"
      ]
     },
     "metadata": {},
     "output_type": "display_data"
    }
   ],
   "source": [
    "plt.style.use('default')\n",
    "# Histogram\n",
    "plt.figure(figsize=(5, 3))\n",
    "plt.hist(df['sentiment'])\n",
    "plt.title('Sentiment Score Distribution')\n",
    "plt.xlabel('Sentiment Score')\n",
    "plt.ylabel('Frequency')\n",
    "plt.show()"
   ]
  },
  {
   "cell_type": "markdown",
   "id": "85833a33-bfed-46b8-b5cc-208afb30e19b",
   "metadata": {},
   "source": [
    "<h2>Identifying the most positive and negative reviews based on their sentiment scores:</h2>"
   ]
  },
  {
   "cell_type": "code",
   "execution_count": 8,
   "id": "33c93833-89dc-4fff-a43c-8ceedfebe9e1",
   "metadata": {},
   "outputs": [
    {
     "name": "stdout",
     "output_type": "stream",
     "text": [
      "Top 5 most positive reviews:\n",
      "                                                review  sentiment\n",
      "105  Best Persian restaurant. It's like having home...          5\n",
      "48   We loved our visit to Shiraz! The wine menu wa...          5\n",
      "55   Amazing food.  Excellent service. Best in nyc....          5\n",
      "82   Excellent Persian food, comfortable stylish sp...          5\n",
      "1    One of the best kosher Persian restaurants!Bee...          5\n",
      "\n",
      "\n",
      "Top 5 most negative reviews:\n",
      "                                                review  sentiment\n",
      "97   Since i wrote the review of the Chelsea locati...          2\n",
      "98   The location is great and so is the decor. The...          2\n",
      "54   Outrageously expensive for mediocre food, even...          2\n",
      "56   My girlfriend and I came to this restaurant wi...          2\n",
      "104  Unfortunately not a great experience. The food...          2\n"
     ]
    }
   ],
   "source": [
    "# Sort the DataFrame by sentiment score in descending order\n",
    "df_sorted = df.sort_values('sentiment', ascending=False)\n",
    "\n",
    "# Print the top 5 most positive reviews\n",
    "print('Top 5 most positive reviews:')\n",
    "print(df_sorted.head(5))\n",
    "\n",
    "print('\\n')\n",
    "\n",
    "# Print the top 5 most negative reviews\n",
    "print('Top 5 most negative reviews:')\n",
    "print(df_sorted.tail(5))"
   ]
  }
 ],
 "metadata": {
  "kernelspec": {
   "display_name": "Python 3 (ipykernel)",
   "language": "python",
   "name": "python3"
  },
  "language_info": {
   "codemirror_mode": {
    "name": "ipython",
    "version": 3
   },
   "file_extension": ".py",
   "mimetype": "text/x-python",
   "name": "python",
   "nbconvert_exporter": "python",
   "pygments_lexer": "ipython3",
   "version": "3.8.17"
  }
 },
 "nbformat": 4,
 "nbformat_minor": 5
}
